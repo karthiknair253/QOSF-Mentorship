{
 "cells": [
  {
   "cell_type": "markdown",
   "metadata": {},
   "source": [
    "# Task 4 - Using VQE to find lowest eigenvalue"
   ]
  },
  {
   "cell_type": "markdown",
   "metadata": {},
   "source": [
    "### Karthik Krishnakumar, *Msc. Physics, BITS Pilani*"
   ]
  },
  {
   "cell_type": "markdown",
   "metadata": {},
   "source": [
    "## **Question**:\n",
    "\n",
    "Find the lowest eigenvalue of the following matrix:\n",
    "\n",
    "$$\n",
    "\\begin{bmatrix}\n",
    "1 & 0 & 0 & 0  \\\\\n",
    "0 & 0 & -1 & 0 \\\\\n",
    "0 & -1 & 0 & 0 \\\\\n",
    "0 & 0 & 0 & 1\n",
    "\\end{bmatrix}.\n",
    "$$\n",
    "\n",
    "using VQE-like circuits, created by yourself from scratch.\n",
    "\n",
    "## **Resources**:\n",
    "\n",
    "I found the following resources very important to develop my understanding of the Algorithm \n",
    "- [David Khachatryan's blog on VQE](https://github.com/DavitKhach/quantum-algorithms-tutorials/blob/master/variational_quantum_eigensolver.ipynb)\n",
    "- [Michel Stechly's blog on VQE](https://www.mustythoughts.com/variational-quantum-eigensolver-explained)\n",
    "\n"
   ]
  },
  {
   "cell_type": "markdown",
   "metadata": {},
   "source": [
    "## **Basic Idea**\n",
    "\n",
    "Before we start actually targetting the problem at hand let's get a broad understanding of the VQE Algorithm, the Algorithm works on the idea that the lowest expectation value of a given Hamiltonian occurs at the lowest energy eigenvector. This implies that if we search the entire state space for the lowest expectation value we will find the lowest eigenvalue in the progress. In general,this would be a very tedious task that will require some form of gradient descent scheme to simplify and optimize the process of Parameter finding.But for this 4 dimensional matrix it is computationally feasible to search the complete state space to find the minima.To find the expectation value of the Hamiltonian we decompose the Hamiltonian into Pauli Bases since their expectation values can be calculated, we also design an ansatz that covers the entire state space\n",
    "\n",
    "\n",
    "I have broken down the algorithm into the following broad sections\n",
    "\n",
    "1.   Decomposing the Hamiltonian into Pauli Bases.\n",
    "2.   Building circuit for Ansatz design\n",
    "3.   Finding expectation value in Paul Bases\n",
    "4.   Identifying minimum energy state\n",
    "5.   Testing results obtained.\n"
   ]
  },
  {
   "cell_type": "markdown",
   "metadata": {},
   "source": [
    "#  1) Decomposing Hamiltonian into Pauli bases\n",
    "\n",
    "\n",
    "We know that for one qubit the Pauli Matrices $I,X,Y,Z$ forms an orthogonal basis. Similarly in our problem the 4-dimensional matirx can be decomposed into the Pauli Bases as well which is made up of $II,XX,YY,ZZ,XY......$ forms a basis. \n",
    "\n",
    "$$\n",
    "\\sigma_0 = \\begin{pmatrix} 1 & 0 \\\\ 0 & 1 \\end{pmatrix} \\quad\n",
    "\\sigma_x = \\begin{pmatrix} 0 & 1 \\\\ 1 & 0 \\end{pmatrix} \\quad\n",
    "\\sigma_y = \\begin{pmatrix} 0 &-i \\\\ i & 0 \\end{pmatrix} \\quad\n",
    "\\sigma_z = \\begin{pmatrix} 1 & 0 \\\\ 0 &-1 \\end{pmatrix}\n",
    "$$\n",
    "\n",
    "$$ H = \\sum_{i_{1},\\ldots,i_{n} = \\{0,x,y,z\\}}h_{i_{1},\\ldots,i_{n}}\\cdot \\frac{1}{2^{n}}\\sigma_{i_1}\\otimes\\ldots\\otimes\\sigma_{i_n} $$\n",
    "\n",
    "\n",
    "\n",
    "We are required to find the coefficients $h_{i_{1},\\ldots,i_{n}}$ \n",
    "\n",
    "For the problem at hand we have $n=2$, \n",
    "\n",
    "$$\n",
    "H = \\sum_{ij} \\frac{1}{4} h_{ij} \\hspace{0.5em} \\sigma_i \\otimes \\sigma_j\n",
    "$$\n",
    "\n",
    "We find the coefficients $h_{ij}$ using the Gram-Schmidt product and the components $h_{ij}$ are:\n",
    "\n",
    "$$\n",
    "h_{ij} = \\frac{1}{4} \\mathrm{Tr} \\bigg[ (\\sigma_i \\otimes \\sigma_j) \\cdot H \\bigg]\n",
    "$$\n",
    "\n",
    "Therefore we create a function `decompose_pauli` performs this decomposition for us.\n",
    "\n",
    "\n",
    "\n",
    "\n",
    "\n",
    "\n",
    "\n",
    "\n"
   ]
  },
  {
   "cell_type": "code",
   "execution_count": 63,
   "metadata": {},
   "outputs": [],
   "source": [
    "import numpy as np\n",
    "import matplotlib.pyplot as plt\n",
    "from qiskit import *\n",
    "from itertools import product\n",
    "from scipy.optimize import minimize\n",
    "\n"
   ]
  },
  {
   "cell_type": "code",
   "execution_count": 64,
   "metadata": {},
   "outputs": [],
   "source": [
    "H = np.array([[1,0,0,0],[0,0,-1,0],[0,-1,0,0],[0,0,0,1]])\n",
    "\n",
    "sI = np.eye(2, 2, dtype=complex)\n",
    "sX = np.array([[0, 1], [1, 0]], dtype=complex)\n",
    "sZ = np.array([[1, 0], [0,-1]], dtype=complex)\n",
    "sY = np.array([[0,1j],[-1j,0]])\n",
    "\n",
    "\n",
    "pauli = {'I': sI,\n",
    "     'X': sX,\n",
    "     'Y': sY,\n",
    "     'Z': sZ}"
   ]
  },
  {
   "cell_type": "code",
   "execution_count": 226,
   "metadata": {},
   "outputs": [],
   "source": [
    "def decompose_pauli(H, pauli):\n",
    "    \"\"\" Decompose a general Hamiltonian into the pauli matrices,in this case II,XX,YY,ZZ..\n",
    "    \n",
    "    Args:\n",
    "        H : Matrix we want to decompose.\n",
    "        pauli (dict): basis matrices with names as keys\n",
    "   \n",
    "   Output:\n",
    "       coefficients (dict):  values of components along various Pauli basis matrices\"\"\"\n",
    "       \n",
    "       \n",
    "    assert np.allclose(H, H.conj().T), \"The Hamiltonian is not Hermitian\"\n",
    "    assert len(H) == len(H[0]), \"Matrix is not a square matrix\"\n",
    "     \n",
    "    repeat = int(np.log2(len(H)))\n",
    "    coefficients = {}\n",
    "    \n",
    "    for (name_1, pauli_1),(name_2, pauli_2) in product(basis.items(), repeat=repeat):           \n",
    "        coefficients[name_1 + name_2] = np.trace(1/4.*np.kron(pauli_1,pauli_2) @ H)\n",
    "    \n",
    "    return { key : val for key,val in coefficients.items() if val != 0}"
   ]
  },
  {
   "cell_type": "markdown",
   "metadata": {},
   "source": [
    "**Testing the Pauli Decompose function**\n",
    "\n",
    "Let's test the function created above by decomposing the Identity matrix and reviewing the solution obtained"
   ]
  },
  {
   "cell_type": "code",
   "execution_count": 227,
   "metadata": {},
   "outputs": [
    {
     "name": "stdout",
     "output_type": "stream",
     "text": [
      "  II : (1+0j)\n"
     ]
    }
   ],
   "source": [
    "Hamil= np.array([[1,0,0,0],[0,1,0,0],[0,0,1,0],[0,0,0,1]])\n",
    "components = decompose_pauli(Hamil, pauli)\n",
    "\n",
    "for name, comp in components.items():\n",
    "    print(f\"  {name} : {comp}\")\n"
   ]
  },
  {
   "cell_type": "markdown",
   "metadata": {},
   "source": [
    "Therefore,we can see that the Pauli decompose function works,now let's find the coefficients for the actual given Hamiltonian "
   ]
  },
  {
   "cell_type": "code",
   "execution_count": 228,
   "metadata": {},
   "outputs": [
    {
     "name": "stdout",
     "output_type": "stream",
     "text": [
      "  II : (0.5+0j)\n",
      "  XX : (-0.5+0j)\n",
      "  YY : (-0.5+0j)\n",
      "  ZZ : (0.5+0j)\n"
     ]
    }
   ],
   "source": [
    "components = decompose_pauli(H, pauli)\n",
    "\n",
    "for name, comp in components.items():\n",
    "    print(f\"  {name} : {comp}\")\n"
   ]
  },
  {
   "cell_type": "markdown",
   "metadata": {},
   "source": [
    "Therefore we can write the following equation decomposing the given Hamiltonian in the following form.\n",
    "$$H=0.5[I\\otimes I]-0.5[X\\otimes X]-0.5[Y\\otimes Y]+0.5[Z\\otimes Z]$$"
   ]
  },
  {
   "cell_type": "markdown",
   "metadata": {},
   "source": [
    "#  2) Building circuit for Ansatz Initialization"
   ]
  },
  {
   "cell_type": "markdown",
   "metadata": {},
   "source": [
    "Now we must design the ansatz for the circuit we choose the following $$[R_{X}(\\theta)\\otimes I][CNOT_{12}][H\\otimes I]$$\n",
    "\n"
   ]
  },
  {
   "cell_type": "code",
   "execution_count": 229,
   "metadata": {},
   "outputs": [],
   "source": [
    "def ansatz_preparation(circuit,parameters):\n",
    "    \n",
    "    q=circuit.qregs[0]\n",
    "    circuit.h(q[0])\n",
    "    circuit.cx(q[0],q[1])    \n",
    "    circuit.rx(parameters,q[0])\n",
    "    \n",
    "    return circuit"
   ]
  },
  {
   "cell_type": "markdown",
   "metadata": {},
   "source": [
    "Testing the ansatz preparation circuit "
   ]
  },
  {
   "cell_type": "code",
   "execution_count": 230,
   "metadata": {},
   "outputs": [
    {
     "data": {
      "text/html": [
       "<pre style=\"word-wrap: normal;white-space: pre;background: #fff0;line-height: 1.1;font-family: &quot;Courier New&quot;,Courier,monospace\">         ┌───┐     ┌───────┐\n",
       "q4560_0: ┤ H ├──■──┤ RX(2) ├\n",
       "         └───┘┌─┴─┐└───────┘\n",
       "q4560_1: ─────┤ X ├─────────\n",
       "              └───┘         </pre>"
      ],
      "text/plain": [
       "         ┌───┐     ┌───────┐\n",
       "q4560_0: ┤ H ├──■──┤ RX(2) ├\n",
       "         └───┘┌─┴─┐└───────┘\n",
       "q4560_1: ─────┤ X ├─────────\n",
       "              └───┘         "
      ]
     },
     "execution_count": 230,
     "metadata": {},
     "output_type": "execute_result"
    }
   ],
   "source": [
    "q = QuantumRegister(2)\n",
    "circuit = QuantumCircuit(q)\n",
    "\n",
    "my_circuit = ansatz_preparation(circuit,2)\n",
    "my_circuit.draw()"
   ]
  },
  {
   "cell_type": "markdown",
   "metadata": {},
   "source": [
    "Now that we have designed the ansatz preparation circuit, we can move on to the next part of the circuit which is finding the expectation value in the required Pauli Bases.\n",
    "\n",
    "# 3) Finding the expectation value in the Pauli Bases.\n",
    "\n",
    "By default Qiskit performs the measurement in the Computational Z basis for the other basis we require to do a transformation into the respective basis, we know that the transformation into X basis requires a Hadamard gate simillarly we the transformation for Y is given by S dagger\n",
    ".$$Y_{gate}= \\frac{1}{\\sqrt{2}}\\begin{pmatrix} 1 & -i \\\\ 1 & i \\end{pmatrix}\\quad H_{gate}= \\frac{1}{\\sqrt{2}}\\begin{pmatrix} 1 & 1 \\\\ 1 & -1 \\end{pmatrix}$$\n",
    "\n",
    "\n",
    "Since we only have the pauli bases $II,XX,YY,ZZ$ in our decomposition we only need to crerate the tranformation matrices for those measurement basis. The bases are defined below.\n",
    "\n",
    "$$ ZZ : [I_{1}]\\otimes[I_{2}]$$\n",
    "$$ XX : [Hadamard_{1}]\\otimes [Hadamard_{2}]$$\n",
    "$$ YY : [Y_{gate 1}]\\otimes [Y_{gate 2}]$$\n",
    "\n",
    "\n"
   ]
  },
  {
   "cell_type": "code",
   "execution_count": 231,
   "metadata": {},
   "outputs": [],
   "source": [
    "def vqe_circuit(parameters, measure):\n",
    "    \"\"\"\n",
    "    Creates a device ansatz circuit for optimization.\n",
    "    :param parameters_array: list of parameters for constructing ansatz state that should be optimized.\n",
    "    :param measure: measurement type. E.g. 'Z' stands for Z measurement.\n",
    "    :return: quantum circuit.\"\"\"\n",
    "    \n",
    "    # Ansatz preparation\n",
    "    \n",
    "    \n",
    "    q = QuantumRegister(2)\n",
    "    c= ClassicalRegister(2)\n",
    "    circuit = QuantumCircuit(q,c)\n",
    "    \n",
    "    circuit=ansatz_preparation(circuit,parameters)\n",
    "    circuit.barrier()\n",
    "    \n",
    "    \n",
    "    # measurement\n",
    "    if measure == 'ZZ':\n",
    "        circuit.measure(q[0], c[0])\n",
    "        circuit.measure(q[1], c[1])\n",
    "    elif measure == 'XX':\n",
    "        circuit.u2(0, np.pi, q[0])\n",
    "        circuit.u2(0, np.pi, q[1])\n",
    "        circuit.measure(q[0], c[0])\n",
    "        circuit.measure(q[1], c[1])\n",
    "    elif measure == 'YY':\n",
    "        circuit.u2(0, np.pi/2, q[0])\n",
    "        circuit.u2(0, np.pi/2, q[1])\n",
    "        circuit.measure(q[0], c[0])\n",
    "        circuit.measure(q[1], c[1])\n",
    "    else:\n",
    "        raise ValueError('Not valid input for measurement: input should be \"XX\" or \"YY\" or \"ZZ\"')\n",
    "\n",
    "    return circuit"
   ]
  },
  {
   "cell_type": "markdown",
   "metadata": {},
   "source": [
    "Testing the Measurement circuit for all basis measurement"
   ]
  },
  {
   "cell_type": "code",
   "execution_count": 232,
   "metadata": {},
   "outputs": [
    {
     "data": {
      "text/html": [
       "<pre style=\"word-wrap: normal;white-space: pre;background: #fff0;line-height: 1.1;font-family: &quot;Courier New&quot;,Courier,monospace\">         ┌───┐     ┌───────┐ ░ ┌─┐   \n",
       "q4561_0: ┤ H ├──■──┤ RX(2) ├─░─┤M├───\n",
       "         └───┘┌─┴─┐└───────┘ ░ └╥┘┌─┐\n",
       "q4561_1: ─────┤ X ├──────────░──╫─┤M├\n",
       "              └───┘          ░  ║ └╥┘\n",
       "c4538_0: ═══════════════════════╩══╬═\n",
       "                                   ║ \n",
       "c4538_1: ══════════════════════════╩═\n",
       "                                     </pre>"
      ],
      "text/plain": [
       "         ┌───┐     ┌───────┐ ░ ┌─┐   \n",
       "q4561_0: ┤ H ├──■──┤ RX(2) ├─░─┤M├───\n",
       "         └───┘┌─┴─┐└───────┘ ░ └╥┘┌─┐\n",
       "q4561_1: ─────┤ X ├──────────░──╫─┤M├\n",
       "              └───┘          ░  ║ └╥┘\n",
       "c4538_0: ═══════════════════════╩══╬═\n",
       "                                   ║ \n",
       "c4538_1: ══════════════════════════╩═\n",
       "                                     "
      ]
     },
     "execution_count": 232,
     "metadata": {},
     "output_type": "execute_result"
    }
   ],
   "source": [
    "firt=vqe_circuit(2,'ZZ')\n",
    "firt.draw()"
   ]
  },
  {
   "cell_type": "code",
   "execution_count": 233,
   "metadata": {},
   "outputs": [
    {
     "data": {
      "text/html": [
       "<pre style=\"word-wrap: normal;white-space: pre;background: #fff0;line-height: 1.1;font-family: &quot;Courier New&quot;,Courier,monospace\">         ┌───┐     ┌───────┐ ░ ┌────────────┐┌─┐   \n",
       "q4562_0: ┤ H ├──■──┤ RX(2) ├─░─┤ U2(0,pi/2) ├┤M├───\n",
       "         └───┘┌─┴─┐└───────┘ ░ ├────────────┤└╥┘┌─┐\n",
       "q4562_1: ─────┤ X ├──────────░─┤ U2(0,pi/2) ├─╫─┤M├\n",
       "              └───┘          ░ └────────────┘ ║ └╥┘\n",
       "c4539_0: ═════════════════════════════════════╩══╬═\n",
       "                                                 ║ \n",
       "c4539_1: ════════════════════════════════════════╩═\n",
       "                                                   </pre>"
      ],
      "text/plain": [
       "         ┌───┐     ┌───────┐ ░ ┌────────────┐┌─┐   \n",
       "q4562_0: ┤ H ├──■──┤ RX(2) ├─░─┤ U2(0,pi/2) ├┤M├───\n",
       "         └───┘┌─┴─┐└───────┘ ░ ├────────────┤└╥┘┌─┐\n",
       "q4562_1: ─────┤ X ├──────────░─┤ U2(0,pi/2) ├─╫─┤M├\n",
       "              └───┘          ░ └────────────┘ ║ └╥┘\n",
       "c4539_0: ═════════════════════════════════════╩══╬═\n",
       "                                                 ║ \n",
       "c4539_1: ════════════════════════════════════════╩═\n",
       "                                                   "
      ]
     },
     "execution_count": 233,
     "metadata": {},
     "output_type": "execute_result"
    }
   ],
   "source": [
    "firty=vqe_circuit(2,'YY')\n",
    "firty.draw()"
   ]
  },
  {
   "cell_type": "code",
   "execution_count": 234,
   "metadata": {},
   "outputs": [
    {
     "data": {
      "text/html": [
       "<pre style=\"word-wrap: normal;white-space: pre;background: #fff0;line-height: 1.1;font-family: &quot;Courier New&quot;,Courier,monospace\">         ┌───┐     ┌───────┐ ░ ┌──────────┐┌─┐   \n",
       "q4563_0: ┤ H ├──■──┤ RX(2) ├─░─┤ U2(0,pi) ├┤M├───\n",
       "         └───┘┌─┴─┐└───────┘ ░ ├──────────┤└╥┘┌─┐\n",
       "q4563_1: ─────┤ X ├──────────░─┤ U2(0,pi) ├─╫─┤M├\n",
       "              └───┘          ░ └──────────┘ ║ └╥┘\n",
       "c4540_0: ═══════════════════════════════════╩══╬═\n",
       "                                               ║ \n",
       "c4540_1: ══════════════════════════════════════╩═\n",
       "                                                 </pre>"
      ],
      "text/plain": [
       "         ┌───┐     ┌───────┐ ░ ┌──────────┐┌─┐   \n",
       "q4563_0: ┤ H ├──■──┤ RX(2) ├─░─┤ U2(0,pi) ├┤M├───\n",
       "         └───┘┌─┴─┐└───────┘ ░ ├──────────┤└╥┘┌─┐\n",
       "q4563_1: ─────┤ X ├──────────░─┤ U2(0,pi) ├─╫─┤M├\n",
       "              └───┘          ░ └──────────┘ ║ └╥┘\n",
       "c4540_0: ═══════════════════════════════════╩══╬═\n",
       "                                               ║ \n",
       "c4540_1: ══════════════════════════════════════╩═\n",
       "                                                 "
      ]
     },
     "execution_count": 234,
     "metadata": {},
     "output_type": "execute_result"
    }
   ],
   "source": [
    "firt=vqe_circuit(2,'XX')\n",
    "firt.draw()"
   ]
  },
  {
   "cell_type": "markdown",
   "metadata": {},
   "source": [
    "**Finding the expectation value for a given Pauli basis**\n",
    "\n",
    "To obtain the expectation value of the energy we first need to perform the transformation to the necessary basis and then perform measurement in the computational basis we will obtain the following measurements as output $00,01,10,11$ the outcomes $00,11$ correspond to a classical measurement readout of +1 whereas the measurements $10,01$ correspond to a classical readout of -1"
   ]
  },
  {
   "cell_type": "code",
   "execution_count": 235,
   "metadata": {},
   "outputs": [],
   "source": [
    "def expectation_Pauli(parameters, measure):\n",
    "    # measure\n",
    "    if measure == 'II':\n",
    "        return 1\n",
    "    elif measure == 'ZZ':\n",
    "        circuit = vqe_circuit(parameters, 'ZZ')\n",
    "    elif measure == 'XX':\n",
    "        circuit = vqe_circuit(parameters, 'XX')\n",
    "    elif measure == 'YY':\n",
    "        circuit = vqe_circuit(parameters, 'YY')\n",
    "    else:\n",
    "        raise ValueError('Not valid input for measurement: input should be \"II\" or \"XX\" or \"ZZ\" or \"YY\"')\n",
    "    \n",
    "    shots = 8192\n",
    "    backend = BasicAer.get_backend('qasm_simulator')\n",
    "    job = execute(circuit, backend, shots=shots)\n",
    "    result = job.result()\n",
    "    counts = result.get_counts()\n",
    "    \n",
    "    # expectation value estimation from counts\n",
    "    expectation_value = 0\n",
    "    for measure_result in counts:\n",
    "        \n",
    "        if measure_result == '11':\n",
    "            sign = +1\n",
    "        elif measure_result == '01':\n",
    "            sign = -1\n",
    "        elif measure_result == '10':\n",
    "            sign = -1\n",
    "        elif measure_result == '00':\n",
    "            sign = +1\n",
    "        expectation_value += sign * counts[measure_result] / shots\n",
    "        \n",
    "    return expectation_value"
   ]
  },
  {
   "cell_type": "markdown",
   "metadata": {},
   "source": [
    "**Testing the expectation value for different Pauli measurements**\n",
    "\n",
    "By setting the value of params equal to 0 we get the bell state $\\frac{1}{\\sqrt{2}}[|00\\rangle + |11\\rangle]$ measuring in the ZZ basis we must obtain either 00 or 11 as the outcome both of which result in a positive sign for ZZ measurement.Therefore we must have an expectation value of 1\n"
   ]
  },
  {
   "cell_type": "code",
   "execution_count": 236,
   "metadata": {},
   "outputs": [
    {
     "data": {
      "text/plain": [
       "1.0"
      ]
     },
     "execution_count": 236,
     "metadata": {},
     "output_type": "execute_result"
    }
   ],
   "source": [
    "param=0\n",
    "expect= expectation_Pauli(param,'ZZ')\n",
    "expect"
   ]
  },
  {
   "cell_type": "markdown",
   "metadata": {},
   "source": [
    "Now we have defined a function which finds the expectation value of measurement in each Pauli Basis necessary,given below is a function which combines all the expectation values to find the energy value of the Hamiltonian for a given parameter"
   ]
  },
  {
   "cell_type": "code",
   "execution_count": 237,
   "metadata": {},
   "outputs": [],
   "source": [
    "\n",
    "def vqe(parameters):\n",
    "        \n",
    "    # quantum_modules\n",
    "    quantum_module_I = components['II'] * expectation_Pauli(parameters, 'II')\n",
    "    quantum_module_Z = components['ZZ'] * expectation_Pauli(parameters, 'ZZ')\n",
    "    quantum_module_X = components['XX'] * expectation_Pauli(parameters, 'XX')\n",
    "    quantum_module_Y = components['YY'] * expectation_Pauli(parameters, 'YY')\n",
    "    \n",
    "    # summing the measurement results\n",
    "    classical_adder = quantum_module_I + quantum_module_Z + quantum_module_X + quantum_module_Y\n",
    "    classical_adder= classical_adder.real\n",
    "    return classical_adder"
   ]
  },
  {
   "cell_type": "markdown",
   "metadata": {},
   "source": [
    "# 4) Obtaining minimum energy state\n",
    "\n",
    "Now that we have defined the function we now need to minimize the energy values for all possible values of the parameter,since the parameter represents rotation all values between $0$ and $2\\pi$ must be considered, there are two ways of finding the minima\n",
    "\n",
    "1. Using a gradient descent scheme to identify the minimum value of energy\n",
    "2. Plotting the function for all values of the parameter and identifying the minima\n",
    "\n",
    "We will see both these methods below \n"
   ]
  },
  {
   "cell_type": "markdown",
   "metadata": {},
   "source": [
    "**Using gradient descent scheme(Powell)**"
   ]
  },
  {
   "cell_type": "code",
   "execution_count": 238,
   "metadata": {},
   "outputs": [
    {
     "name": "stdout",
     "output_type": "stream",
     "text": [
      "The estimated ground state energy from VQE algorithm is: -1.0\n",
      "The value of parameter for which minima is obtained is : 3.137831298570027\n"
     ]
    }
   ],
   "source": [
    "parameters_array = np.pi\n",
    "tol = 1e-3 # tolerance for optimization precision.\n",
    "\n",
    "vqe_result = minimize(vqe, parameters_array, method=\"Powell\", tol=tol)\n",
    "print('The estimated ground state energy from VQE algorithm is: {}'.format(vqe_result.fun))\n",
    "print('The value of parameter for which minima is obtained is : {}'.format(vqe_result.x))\n"
   ]
  },
  {
   "cell_type": "markdown",
   "metadata": {},
   "source": [
    "**Plotting the function and obtaining minima**"
   ]
  },
  {
   "cell_type": "code",
   "execution_count": null,
   "metadata": {
    "scrolled": false
   },
   "outputs": [],
   "source": [
    "theta_range = np.linspace(0, 2 * np.pi, 128)\n",
    "average_range=[]\n",
    "for x in theta_range:\n",
    "    val = vqe(x)\n",
    "    average_range.append(val)\n",
    "plt.plot(theta_range,average_range)\n",
    "plt.title(r\"Variation of Energy wrt to parameter $\", fontsize=16)\n",
    "plt.xlabel(r\"$\\theta$\", fontsize=14)\n",
    "plt.ylabel(r\"Energy\", fontsize=14)\n",
    "plt.show()"
   ]
  },
  {
   "cell_type": "code",
   "execution_count": 240,
   "metadata": {},
   "outputs": [
    {
     "name": "stdout",
     "output_type": "stream",
     "text": [
      "Smallest eigenvalue from VQE: -0.9996 with theta = 3.12\n"
     ]
    }
   ],
   "source": [
    "print(f\"Smallest eigenvalue from VQE: {np.round(np.min(average_range),4)} with theta = {np.round(theta_range[np.argmin(average_range)], 2)}\")"
   ]
  },
  {
   "cell_type": "markdown",
   "metadata": {},
   "source": [
    "\n",
    "# 5) Testing result obtained\n",
    "\n",
    "Now that we have obtained the result we need to verify the credibility of the outcome we can compare the answer received to a result obtained using a classical eigenvalue finding scheme\n"
   ]
  },
  {
   "cell_type": "code",
   "execution_count": 241,
   "metadata": {},
   "outputs": [
    {
     "name": "stdout",
     "output_type": "stream",
     "text": [
      "Smallest eigenvalue calculated classically = -1.0\n"
     ]
    }
   ],
   "source": [
    "print(f\"Smallest eigenvalue calculated classically = {np.round(np.min(np.linalg.eigh(H)[0]),4)}\")"
   ]
  },
  {
   "cell_type": "markdown",
   "metadata": {},
   "source": [
    "Therefore, we can see that the result obtained using the gradient descent scheme exactly matches the result obtained from a classical eigenvalue finding tool.\n",
    "\n",
    "The graphical method employed above can get extremely intensive with a greater no. of parameters, the above algorithm can be extended to more Hamiltonians with all pauli combinations considered."
   ]
  },
  {
   "cell_type": "markdown",
   "metadata": {},
   "source": [
    "**Scope for further work**\n",
    "\n",
    "1. Extending the Algorithm to a general $N=2^{n}$ dimensional hermitian hamiltonian matrix\n",
    "2. Decomposing more generally into all possible Pauli combinations\n",
    "3. Using different classical optimizers to identify their effect on the final result\n",
    "4. Using noisy models of qubits to identify viability of the Algorithm on NISQ era computers"
   ]
  },
  {
   "cell_type": "code",
   "execution_count": null,
   "metadata": {},
   "outputs": [],
   "source": []
  }
 ],
 "metadata": {
  "kernelspec": {
   "display_name": "Python 3",
   "language": "python",
   "name": "python3"
  },
  "language_info": {
   "codemirror_mode": {
    "name": "ipython",
    "version": 3
   },
   "file_extension": ".py",
   "mimetype": "text/x-python",
   "name": "python",
   "nbconvert_exporter": "python",
   "pygments_lexer": "ipython3",
   "version": "3.8.3"
  }
 },
 "nbformat": 4,
 "nbformat_minor": 4
}
